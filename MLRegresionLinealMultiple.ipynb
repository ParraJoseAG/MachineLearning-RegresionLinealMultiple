{
 "cells": [
  {
   "cell_type": "markdown",
   "id": "9788dcd8",
   "metadata": {},
   "source": [
    "N.H. Prater "
   ]
  },
  {
   "cell_type": "code",
   "execution_count": 1,
   "id": "b1f399be",
   "metadata": {},
   "outputs": [],
   "source": [
    "# Tratamiento de los datos\n",
    "import numpy as np\n",
    "import pandas as pd\n",
    "\n",
    "# Gráficos\n",
    "import matplotlib.pyplot as plt\n",
    "import seaborn as sns\n",
    "import matplotlib.ticker as ticker\n",
    "\n",
    "# Preprocesado y análisis\n",
    "import statsmodels.api as sm\n",
    "from scipy import stats\n",
    "from sklearn.metrics import mean_squared_error\n",
    "\n",
    "# Preprocesado y modelado\n",
    "from sklearn.linear_model import LinearRegression"
   ]
  },
  {
   "cell_type": "code",
   "execution_count": 2,
   "id": "8610eb2d",
   "metadata": {},
   "outputs": [
    {
     "data": {
      "text/html": [
       "<div>\n",
       "<style scoped>\n",
       "    .dataframe tbody tr th:only-of-type {\n",
       "        vertical-align: middle;\n",
       "    }\n",
       "\n",
       "    .dataframe tbody tr th {\n",
       "        vertical-align: top;\n",
       "    }\n",
       "\n",
       "    .dataframe thead th {\n",
       "        text-align: right;\n",
       "    }\n",
       "</style>\n",
       "<table border=\"1\" class=\"dataframe\">\n",
       "  <thead>\n",
       "    <tr style=\"text-align: right;\">\n",
       "      <th></th>\n",
       "      <th>OBSERVACION</th>\n",
       "      <th>Y</th>\n",
       "      <th>x1</th>\n",
       "      <th>x2</th>\n",
       "      <th>x3</th>\n",
       "      <th>x4</th>\n",
       "    </tr>\n",
       "  </thead>\n",
       "  <tbody>\n",
       "    <tr>\n",
       "      <th>0</th>\n",
       "      <td>1</td>\n",
       "      <td>6.9</td>\n",
       "      <td>38.4</td>\n",
       "      <td>6.1</td>\n",
       "      <td>220</td>\n",
       "      <td>235</td>\n",
       "    </tr>\n",
       "    <tr>\n",
       "      <th>1</th>\n",
       "      <td>2</td>\n",
       "      <td>14.4</td>\n",
       "      <td>40.3</td>\n",
       "      <td>4.8</td>\n",
       "      <td>231</td>\n",
       "      <td>307</td>\n",
       "    </tr>\n",
       "    <tr>\n",
       "      <th>2</th>\n",
       "      <td>3</td>\n",
       "      <td>7.4</td>\n",
       "      <td>40.0</td>\n",
       "      <td>6.1</td>\n",
       "      <td>217</td>\n",
       "      <td>212</td>\n",
       "    </tr>\n",
       "    <tr>\n",
       "      <th>3</th>\n",
       "      <td>4</td>\n",
       "      <td>8.5</td>\n",
       "      <td>31.8</td>\n",
       "      <td>0.2</td>\n",
       "      <td>316</td>\n",
       "      <td>365</td>\n",
       "    </tr>\n",
       "    <tr>\n",
       "      <th>4</th>\n",
       "      <td>5</td>\n",
       "      <td>8.0</td>\n",
       "      <td>40.8</td>\n",
       "      <td>3.5</td>\n",
       "      <td>210</td>\n",
       "      <td>218</td>\n",
       "    </tr>\n",
       "    <tr>\n",
       "      <th>5</th>\n",
       "      <td>6</td>\n",
       "      <td>2.8</td>\n",
       "      <td>41.3</td>\n",
       "      <td>1.8</td>\n",
       "      <td>267</td>\n",
       "      <td>235</td>\n",
       "    </tr>\n",
       "    <tr>\n",
       "      <th>6</th>\n",
       "      <td>7</td>\n",
       "      <td>5.0</td>\n",
       "      <td>38.1</td>\n",
       "      <td>1.2</td>\n",
       "      <td>274</td>\n",
       "      <td>285</td>\n",
       "    </tr>\n",
       "    <tr>\n",
       "      <th>7</th>\n",
       "      <td>8</td>\n",
       "      <td>12.2</td>\n",
       "      <td>50.8</td>\n",
       "      <td>8.6</td>\n",
       "      <td>190</td>\n",
       "      <td>205</td>\n",
       "    </tr>\n",
       "    <tr>\n",
       "      <th>8</th>\n",
       "      <td>9</td>\n",
       "      <td>10.0</td>\n",
       "      <td>32.2</td>\n",
       "      <td>5.2</td>\n",
       "      <td>236</td>\n",
       "      <td>267</td>\n",
       "    </tr>\n",
       "    <tr>\n",
       "      <th>9</th>\n",
       "      <td>10</td>\n",
       "      <td>15.2</td>\n",
       "      <td>38.4</td>\n",
       "      <td>6.1</td>\n",
       "      <td>220</td>\n",
       "      <td>300</td>\n",
       "    </tr>\n",
       "  </tbody>\n",
       "</table>\n",
       "</div>"
      ],
      "text/plain": [
       "   OBSERVACION     Y    x1   x2   x3   x4\n",
       "0            1   6.9  38.4  6.1  220  235\n",
       "1            2  14.4  40.3  4.8  231  307\n",
       "2            3   7.4  40.0  6.1  217  212\n",
       "3            4   8.5  31.8  0.2  316  365\n",
       "4            5   8.0  40.8  3.5  210  218\n",
       "5            6   2.8  41.3  1.8  267  235\n",
       "6            7   5.0  38.1  1.2  274  285\n",
       "7            8  12.2  50.8  8.6  190  205\n",
       "8            9  10.0  32.2  5.2  236  267\n",
       "9           10  15.2  38.4  6.1  220  300"
      ]
     },
     "execution_count": 2,
     "metadata": {},
     "output_type": "execute_result"
    }
   ],
   "source": [
    "data = pd.read_csv(\"DatosPrater.csv\",encoding = \"ISO-8859-1\")\n",
    "data.head(10)"
   ]
  },
  {
   "cell_type": "markdown",
   "id": "d14fd88e",
   "metadata": {},
   "source": [
    "**ANÁLISIS EXPLORATORIO DE LOS DATOS**"
   ]
  },
  {
   "cell_type": "code",
   "execution_count": 3,
   "id": "187dbf37",
   "metadata": {},
   "outputs": [
    {
     "data": {
      "text/html": [
       "<div>\n",
       "<style scoped>\n",
       "    .dataframe tbody tr th:only-of-type {\n",
       "        vertical-align: middle;\n",
       "    }\n",
       "\n",
       "    .dataframe tbody tr th {\n",
       "        vertical-align: top;\n",
       "    }\n",
       "\n",
       "    .dataframe thead th {\n",
       "        text-align: right;\n",
       "    }\n",
       "</style>\n",
       "<table border=\"1\" class=\"dataframe\">\n",
       "  <thead>\n",
       "    <tr style=\"text-align: right;\">\n",
       "      <th></th>\n",
       "      <th>Y</th>\n",
       "      <th>x1</th>\n",
       "      <th>x2</th>\n",
       "      <th>x3</th>\n",
       "      <th>x4</th>\n",
       "    </tr>\n",
       "  </thead>\n",
       "  <tbody>\n",
       "    <tr>\n",
       "      <th>0</th>\n",
       "      <td>6.9</td>\n",
       "      <td>38.4</td>\n",
       "      <td>6.1</td>\n",
       "      <td>220</td>\n",
       "      <td>235</td>\n",
       "    </tr>\n",
       "    <tr>\n",
       "      <th>1</th>\n",
       "      <td>14.4</td>\n",
       "      <td>40.3</td>\n",
       "      <td>4.8</td>\n",
       "      <td>231</td>\n",
       "      <td>307</td>\n",
       "    </tr>\n",
       "    <tr>\n",
       "      <th>2</th>\n",
       "      <td>7.4</td>\n",
       "      <td>40.0</td>\n",
       "      <td>6.1</td>\n",
       "      <td>217</td>\n",
       "      <td>212</td>\n",
       "    </tr>\n",
       "    <tr>\n",
       "      <th>3</th>\n",
       "      <td>8.5</td>\n",
       "      <td>31.8</td>\n",
       "      <td>0.2</td>\n",
       "      <td>316</td>\n",
       "      <td>365</td>\n",
       "    </tr>\n",
       "    <tr>\n",
       "      <th>4</th>\n",
       "      <td>8.0</td>\n",
       "      <td>40.8</td>\n",
       "      <td>3.5</td>\n",
       "      <td>210</td>\n",
       "      <td>218</td>\n",
       "    </tr>\n",
       "  </tbody>\n",
       "</table>\n",
       "</div>"
      ],
      "text/plain": [
       "      Y    x1   x2   x3   x4\n",
       "0   6.9  38.4  6.1  220  235\n",
       "1  14.4  40.3  4.8  231  307\n",
       "2   7.4  40.0  6.1  217  212\n",
       "3   8.5  31.8  0.2  316  365\n",
       "4   8.0  40.8  3.5  210  218"
      ]
     },
     "execution_count": 3,
     "metadata": {},
     "output_type": "execute_result"
    }
   ],
   "source": [
    "# Eliminar la columna \"OBSERVACION\" del Dataset y crear el nuevo objeto DataFrame dataLessObservation\n",
    "dataLessObservation = data.drop(['OBSERVACION'], axis=1)\n",
    "dataLessObservation.head()"
   ]
  },
  {
   "cell_type": "code",
   "execution_count": 4,
   "id": "c96803e9",
   "metadata": {},
   "outputs": [
    {
     "data": {
      "text/plain": [
       "Index(['Y', 'x1', 'x2', 'x3', 'x4'], dtype='object')"
      ]
     },
     "execution_count": 4,
     "metadata": {},
     "output_type": "execute_result"
    }
   ],
   "source": [
    "# Nombre de las columnas del nuevo DataFrame\n",
    "columns = dataLessObservation.columns\n",
    "columns"
   ]
  },
  {
   "cell_type": "code",
   "execution_count": 5,
   "id": "47b0466a",
   "metadata": {},
   "outputs": [
    {
     "data": {
      "text/plain": [
       "Y     float64\n",
       "x1    float64\n",
       "x2    float64\n",
       "x3      int64\n",
       "x4      int64\n",
       "dtype: object"
      ]
     },
     "execution_count": 5,
     "metadata": {},
     "output_type": "execute_result"
    }
   ],
   "source": [
    "# Tipo de cada columna\n",
    "dataLessObservation.dtypes"
   ]
  },
  {
   "cell_type": "code",
   "execution_count": 6,
   "id": "17ecff08",
   "metadata": {},
   "outputs": [
    {
     "name": "stdout",
     "output_type": "stream",
     "text": [
      "<class 'pandas.core.frame.DataFrame'>\n",
      "RangeIndex: 32 entries, 0 to 31\n",
      "Data columns (total 5 columns):\n",
      " #   Column  Non-Null Count  Dtype  \n",
      "---  ------  --------------  -----  \n",
      " 0   Y       32 non-null     float64\n",
      " 1   x1      32 non-null     float64\n",
      " 2   x2      32 non-null     float64\n",
      " 3   x3      32 non-null     int64  \n",
      " 4   x4      32 non-null     int64  \n",
      "dtypes: float64(3), int64(2)\n",
      "memory usage: 1.4 KB\n"
     ]
    }
   ],
   "source": [
    "dataLessObservation.info()"
   ]
  },
  {
   "cell_type": "code",
   "execution_count": 7,
   "id": "9a1a8bcf",
   "metadata": {},
   "outputs": [
    {
     "data": {
      "text/plain": [
       "(32, 5)"
      ]
     },
     "execution_count": 7,
     "metadata": {},
     "output_type": "execute_result"
    }
   ],
   "source": [
    "# Dimensión del Dataset\n",
    "dataLessObservation.shape"
   ]
  },
  {
   "cell_type": "code",
   "execution_count": 8,
   "id": "6881c1f6",
   "metadata": {},
   "outputs": [
    {
     "data": {
      "text/plain": [
       "Y     0\n",
       "x1    0\n",
       "x2    0\n",
       "x3    0\n",
       "x4    0\n",
       "dtype: int64"
      ]
     },
     "execution_count": 8,
     "metadata": {},
     "output_type": "execute_result"
    }
   ],
   "source": [
    "# Número de datos ausentes por variable\n",
    "dataLessObservation.isna().sum().sort_values()"
   ]
  },
  {
   "cell_type": "code",
   "execution_count": 9,
   "id": "0c9c0516",
   "metadata": {},
   "outputs": [
    {
     "name": "stderr",
     "output_type": "stream",
     "text": [
      "/home/jose/Descargas/tion/lib/python3.8/site-packages/seaborn/distributions.py:2557: FutureWarning: `distplot` is a deprecated function and will be removed in a future version. Please adapt your code to use either `displot` (a figure-level function with similar flexibility) or `histplot` (an axes-level function for histograms).\n",
      "  warnings.warn(msg, FutureWarning)\n"
     ]
    },
    {
     "data": {
      "image/png": "[encoded data removed]",
      "text/plain": [
       "<Figure size 432x288 with 1 Axes>"
      ]
     },
     "metadata": {
      "needs_background": "light"
     },
     "output_type": "display_data"
    }
   ],
   "source": [
    "# Distribución de la variable respuesta\n",
    "\n",
    "fig, axes = plt.subplots(nrows=1, ncols=1)\n",
    "sns.distplot(\n",
    "    dataLessObservation.Y,\n",
    "    hist    = True,\n",
    "    kde = True,\n",
    "    color   = \"blue\",\n",
    "    kde_kws = {'shade': True, 'linewidth': 1},\n",
    "    ax = axes\n",
    ")\n",
    "axes.set_title(\"Distribución Original (Y)\", fontsize = 'medium')\n",
    "axes.set_xlabel('Producción de Gasolina', fontsize='small') \n",
    "axes.tick_params(labelsize = 6)\n",
    "fig.tight_layout()"
   ]
  },
  {
   "cell_type": "code",
   "execution_count": 10,
   "id": "c7f8f0d9",
   "metadata": {},
   "outputs": [
    {
     "data": {
      "text/html": [
       "<div>\n",
       "<style scoped>\n",
       "    .dataframe tbody tr th:only-of-type {\n",
       "        vertical-align: middle;\n",
       "    }\n",
       "\n",
       "    .dataframe tbody tr th {\n",
       "        vertical-align: top;\n",
       "    }\n",
       "\n",
       "    .dataframe thead th {\n",
       "        text-align: right;\n",
       "    }\n",
       "</style>\n",
       "<table border=\"1\" class=\"dataframe\">\n",
       "  <thead>\n",
       "    <tr style=\"text-align: right;\">\n",
       "      <th></th>\n",
       "      <th>sumsquare_error</th>\n",
       "      <th>aic</th>\n",
       "      <th>bic</th>\n",
       "      <th>kl_div</th>\n",
       "    </tr>\n",
       "  </thead>\n",
       "  <tbody>\n",
       "    <tr>\n",
       "      <th>beta</th>\n",
       "      <td>0.149265</td>\n",
       "      <td>786.248629</td>\n",
       "      <td>-157.905725</td>\n",
       "      <td>inf</td>\n",
       "    </tr>\n",
       "    <tr>\n",
       "      <th>chi2</th>\n",
       "      <td>0.151666</td>\n",
       "      <td>810.603127</td>\n",
       "      <td>-160.860702</td>\n",
       "      <td>inf</td>\n",
       "    </tr>\n",
       "    <tr>\n",
       "      <th>gamma</th>\n",
       "      <td>0.151666</td>\n",
       "      <td>810.603242</td>\n",
       "      <td>-160.860699</td>\n",
       "      <td>inf</td>\n",
       "    </tr>\n",
       "    <tr>\n",
       "      <th>norm</th>\n",
       "      <td>0.154039</td>\n",
       "      <td>815.688218</td>\n",
       "      <td>-163.829567</td>\n",
       "      <td>inf</td>\n",
       "    </tr>\n",
       "    <tr>\n",
       "      <th>logistic</th>\n",
       "      <td>0.155688</td>\n",
       "      <td>823.335328</td>\n",
       "      <td>-163.488926</td>\n",
       "      <td>inf</td>\n",
       "    </tr>\n",
       "  </tbody>\n",
       "</table>\n",
       "</div>"
      ],
      "text/plain": [
       "          sumsquare_error         aic         bic  kl_div\n",
       "beta             0.149265  786.248629 -157.905725     inf\n",
       "chi2             0.151666  810.603127 -160.860702     inf\n",
       "gamma            0.151666  810.603242 -160.860699     inf\n",
       "norm             0.154039  815.688218 -163.829567     inf\n",
       "logistic         0.155688  823.335328 -163.488926     inf"
      ]
     },
     "execution_count": 10,
     "metadata": {},
     "output_type": "execute_result"
    }
   ],
   "source": [
    "from fitter import Fitter, get_common_distributions\n",
    "distribuciones = ['cauchy', 'chi2', 'expon',  'exponpow', 'gamma',\n",
    "                  'norm', 'powerlaw', 'beta', 'logistic']\n",
    "\n",
    "fitter = Fitter(dataLessObservation.Y, distributions=distribuciones)\n",
    "fitter.fit()\n",
    "fitter.summary(Nbest=5, plot=False)"
   ]
  },
  {
   "cell_type": "code",
   "execution_count": 11,
   "id": "08d153ec",
   "metadata": {},
   "outputs": [
    {
     "data": {
      "text/plain": [
       "0     6.9\n",
       "1    14.4\n",
       "2     7.4\n",
       "3     8.5\n",
       "4     8.0\n",
       "Name: Y, dtype: float64"
      ]
     },
     "execution_count": 11,
     "metadata": {},
     "output_type": "execute_result"
    }
   ],
   "source": [
    "y = dataLessObservation['Y']\n",
    "y.head()"
   ]
  },
  {
   "cell_type": "markdown",
   "id": "f94a767d",
   "metadata": {},
   "source": [
    "**Análisis de normalidad de la variable de respuesta**\n",
    "\n",
    "**GRÁFICO**"
   ]
  },
  {
   "cell_type": "code",
   "execution_count": 12,
   "id": "69639c56",
   "metadata": {},
   "outputs": [
    {
     "name": "stdout",
     "output_type": "stream",
     "text": [
      "La media muestral: x_barra=19.659375 y la desviación estándar muestral: s= 10.553549739749892\n",
      "19.659375\n",
      "10.722417258008509\n"
     ]
    },
    {
     "data": {
      "image/png": "[encoded data removed]",
      "text/plain": [
       "<Figure size 504x288 with 1 Axes>"
      ]
     },
     "metadata": {
      "needs_background": "light"
     },
     "output_type": "display_data"
    }
   ],
   "source": [
    "# Histograma + curva normal teórica\n",
    "# ==============================================================================\n",
    "\n",
    "# Valores de la media (mu) y desviación típica (sigma) de los datos\n",
    "x_1, s1 = stats.norm.fit(y)\n",
    "print('La media muestral: x_barra=' + str(x_1) + ' y la desviación estándar muestral: s= ' + str(s1))\n",
    "\n",
    "# numpy \n",
    "x_2 = np.mean(y)\n",
    "s2 = np.std(y,ddof=1)\n",
    "print(x_2)\n",
    "print(s2)\n",
    "\n",
    "# Valores teóricos de la normal en el rango observado\n",
    "x_hat = np.linspace(min(y)-10, max(y)+10, num=200)\n",
    "y_hat = stats.norm.pdf(x_hat, x_1, s1)\n",
    "y_hat2 = stats.norm.pdf(x_hat, x_2, s2)\n",
    "\n",
    "# Gráfico\n",
    "fig, ax = plt.subplots(figsize=(7,4))\n",
    "ax.plot(x_hat, y_hat, linewidth=1, label='normal')\n",
    "ax.plot(x_hat, y_hat2, linewidth=1, color=\"green\", label='normal2')\n",
    "ax.hist(x=y, density=True, bins=5, color=\"blue\", alpha=0.1, label='Histograma')\n",
    "ax.plot(y, np.full_like(y, -0.01), '|k', markeredgewidth=1)\n",
    "ax.set_title('Distribución de la Variable Respuesta')\n",
    "ax.set_xlabel('Producción de Gasolina')\n",
    "ax.set_ylabel('Densidad de probabilidad')\n",
    "ax.legend();"
   ]
  },
  {
   "cell_type": "code",
   "execution_count": 13,
   "id": "65a5c744",
   "metadata": {},
   "outputs": [
    {
     "data": {
      "image/png": "[encoded data removed]",
      "text/plain": [
       "<Figure size 504x288 with 1 Axes>"
      ]
     },
     "metadata": {
      "needs_background": "light"
     },
     "output_type": "display_data"
    }
   ],
   "source": [
    "# Gráfico Q-Q\n",
    "# ==============================================================================\n",
    "fig, ax = plt.subplots(figsize=(7,4))\n",
    "sm.qqplot(\n",
    "    y,\n",
    "    fit   = True,\n",
    "    line  = 'q',\n",
    "    alpha = 0.4,\n",
    "    lw    = 2,\n",
    "    ax    = ax\n",
    ")\n",
    "ax.set_title('Gráfico Q-Q de la producción de gasolina', fontsize = 1,\n",
    "             fontweight = \"bold\")\n",
    "ax.tick_params(labelsize = 7)"
   ]
  },
  {
   "cell_type": "markdown",
   "id": "44ecc599",
   "metadata": {},
   "source": [
    "La distribución de la variable respuesta *(producción de Gasolina)* parece indicar que se ajusta a una distribución normal."
   ]
  },
  {
   "cell_type": "markdown",
   "id": "82081733",
   "metadata": {},
   "source": [
    "**Métodos analíticos asimetría y curtosis**"
   ]
  },
  {
   "cell_type": "code",
   "execution_count": 14,
   "id": "d9e3fa54",
   "metadata": {},
   "outputs": [
    {
     "name": "stdout",
     "output_type": "stream",
     "text": [
      "Kursotis: -0.6560609658686043\n",
      "Skewness: 0.3867345741102473\n"
     ]
    }
   ],
   "source": [
    "print('Kursotis:', stats.kurtosis(y))\n",
    "print('Skewness:', stats.skew(y))"
   ]
  },
  {
   "cell_type": "markdown",
   "id": "4d703d41",
   "metadata": {},
   "source": [
    "Distribución platicúrtica con una ligera asimetría positiva."
   ]
  },
  {
   "cell_type": "markdown",
   "id": "98037bfc",
   "metadata": {},
   "source": [
    "**Contraste de hipótesis**\n",
    "\n",
    "$H_0 =$ La distribución de los datos se ajusta a una distribución normal y $H_1 =$ La distribución de los datos NO se ajusta a una distribución normal.\n",
    "\n",
    "Si el nivel de significancia es $\\alpha=0.05$ ..."
   ]
  },
  {
   "cell_type": "code",
   "execution_count": 15,
   "id": "28b1e154",
   "metadata": {},
   "outputs": [
    {
     "data": {
      "text/plain": [
       "ShapiroResult(statistic=0.9603989124298096, pvalue=0.2816575765609741)"
      ]
     },
     "execution_count": 15,
     "metadata": {},
     "output_type": "execute_result"
    }
   ],
   "source": [
    "# Shapiro-Wilk test\n",
    "# ==============================================================================\n",
    "shapiro_test = stats.shapiro(y)\n",
    "shapiro_test"
   ]
  },
  {
   "cell_type": "code",
   "execution_count": 16,
   "id": "ab857472",
   "metadata": {},
   "outputs": [
    {
     "name": "stdout",
     "output_type": "stream",
     "text": [
      "Estadístico = 1.495439390455303, p-value = 0.47344492148294803\n"
     ]
    }
   ],
   "source": [
    "# D'Agostino's K-squared test\n",
    "# ==============================================================================\n",
    "k2, p_value = stats.normaltest(y)\n",
    "print(f\"Estadístico = {k2}, p-value = {p_value}\")"
   ]
  },
  {
   "cell_type": "markdown",
   "id": "df0442e7",
   "metadata": {},
   "source": [
    "En ambos test el p-value > $\\alpha$... indicando que no existe evidencia suficiente para rechazar la hipótesis nula $H_0$."
   ]
  },
  {
   "cell_type": "markdown",
   "id": "5b0ff814",
   "metadata": {},
   "source": [
    "**VARIABLES PREDICTORAS-INDEPENDIENTES NUMÉRICAS**"
   ]
  },
  {
   "cell_type": "code",
   "execution_count": 17,
   "id": "1d07b505",
   "metadata": {},
   "outputs": [
    {
     "data": {
      "text/html": [
       "<div>\n",
       "<style scoped>\n",
       "    .dataframe tbody tr th:only-of-type {\n",
       "        vertical-align: middle;\n",
       "    }\n",
       "\n",
       "    .dataframe tbody tr th {\n",
       "        vertical-align: top;\n",
       "    }\n",
       "\n",
       "    .dataframe thead th {\n",
       "        text-align: right;\n",
       "    }\n",
       "</style>\n",
       "<table border=\"1\" class=\"dataframe\">\n",
       "  <thead>\n",
       "    <tr style=\"text-align: right;\">\n",
       "      <th></th>\n",
       "      <th>Y</th>\n",
       "      <th>x1</th>\n",
       "      <th>x2</th>\n",
       "      <th>x3</th>\n",
       "      <th>x4</th>\n",
       "    </tr>\n",
       "  </thead>\n",
       "  <tbody>\n",
       "    <tr>\n",
       "      <th>count</th>\n",
       "      <td>32.000000</td>\n",
       "      <td>32.000000</td>\n",
       "      <td>32.00000</td>\n",
       "      <td>32.000000</td>\n",
       "      <td>32.000000</td>\n",
       "    </tr>\n",
       "    <tr>\n",
       "      <th>mean</th>\n",
       "      <td>19.659375</td>\n",
       "      <td>39.250000</td>\n",
       "      <td>4.18125</td>\n",
       "      <td>241.500000</td>\n",
       "      <td>332.093750</td>\n",
       "    </tr>\n",
       "    <tr>\n",
       "      <th>std</th>\n",
       "      <td>10.722417</td>\n",
       "      <td>5.635429</td>\n",
       "      <td>2.61983</td>\n",
       "      <td>37.541375</td>\n",
       "      <td>69.755961</td>\n",
       "    </tr>\n",
       "    <tr>\n",
       "      <th>min</th>\n",
       "      <td>2.800000</td>\n",
       "      <td>31.800000</td>\n",
       "      <td>0.20000</td>\n",
       "      <td>190.000000</td>\n",
       "      <td>205.000000</td>\n",
       "    </tr>\n",
       "    <tr>\n",
       "      <th>25%</th>\n",
       "      <td>11.650000</td>\n",
       "      <td>36.625000</td>\n",
       "      <td>1.80000</td>\n",
       "      <td>217.000000</td>\n",
       "      <td>274.500000</td>\n",
       "    </tr>\n",
       "    <tr>\n",
       "      <th>50%</th>\n",
       "      <td>17.800000</td>\n",
       "      <td>40.000000</td>\n",
       "      <td>4.80000</td>\n",
       "      <td>231.000000</td>\n",
       "      <td>349.000000</td>\n",
       "    </tr>\n",
       "    <tr>\n",
       "      <th>75%</th>\n",
       "      <td>27.050000</td>\n",
       "      <td>40.925000</td>\n",
       "      <td>6.10000</td>\n",
       "      <td>268.750000</td>\n",
       "      <td>383.000000</td>\n",
       "    </tr>\n",
       "    <tr>\n",
       "      <th>max</th>\n",
       "      <td>45.700000</td>\n",
       "      <td>50.800000</td>\n",
       "      <td>8.60000</td>\n",
       "      <td>316.000000</td>\n",
       "      <td>444.000000</td>\n",
       "    </tr>\n",
       "  </tbody>\n",
       "</table>\n",
       "</div>"
      ],
      "text/plain": [
       "               Y         x1        x2          x3          x4\n",
       "count  32.000000  32.000000  32.00000   32.000000   32.000000\n",
       "mean   19.659375  39.250000   4.18125  241.500000  332.093750\n",
       "std    10.722417   5.635429   2.61983   37.541375   69.755961\n",
       "min     2.800000  31.800000   0.20000  190.000000  205.000000\n",
       "25%    11.650000  36.625000   1.80000  217.000000  274.500000\n",
       "50%    17.800000  40.000000   4.80000  231.000000  349.000000\n",
       "75%    27.050000  40.925000   6.10000  268.750000  383.000000\n",
       "max    45.700000  50.800000   8.60000  316.000000  444.000000"
      ]
     },
     "execution_count": 17,
     "metadata": {},
     "output_type": "execute_result"
    }
   ],
   "source": [
    "# Variables numéricas\n",
    "# ==============================================================================\n",
    "dataLessObservation.select_dtypes(include=['float64', 'int']).describe()"
   ]
  },
  {
   "cell_type": "code",
   "execution_count": 18,
   "id": "b1ffd2e4",
   "metadata": {},
   "outputs": [
    {
     "data": {
      "image/png": "[encoded data removed]",
      "text/plain": [
       "<Figure size 648x360 with 4 Axes>"
      ]
     },
     "metadata": {
      "needs_background": "light"
     },
     "output_type": "display_data"
    }
   ],
   "source": [
    "# Gráfico de distribución para cada variable numérica\n",
    "# Ajustar número de subplots en función del número de columnas\n",
    "fig, axes = plt.subplots(nrows=2, ncols=2, figsize=(9, 5))\n",
    "axes = axes.flat\n",
    "columnas_numeric = dataLessObservation.select_dtypes(include=['float64', 'int']).columns\n",
    "columnas_numeric = columnas_numeric.drop('Y')\n",
    "\n",
    "for i, colum in enumerate(columnas_numeric):\n",
    "    sns.histplot(\n",
    "        data    = dataLessObservation,\n",
    "        x       = colum,\n",
    "        stat    = \"count\",\n",
    "        kde     = False,\n",
    "        color   = (list(plt.rcParams['axes.prop_cycle'])*2)[i][\"color\"],\n",
    "        line_kws= {'linewidth': 2},\n",
    "        alpha   = 0.3,\n",
    "        ax      = axes[i]\n",
    "    )\n",
    "    axes[i].set_title(colum, fontsize = 7, fontweight = \"bold\")\n",
    "    axes[i].tick_params(labelsize = 6)\n",
    "    axes[i].set_xlabel(\"\")\n",
    "    \n",
    "    \n",
    "fig.tight_layout()\n",
    "plt.subplots_adjust(top = 0.9)\n",
    "fig.suptitle('Histograma de las variables predictoras', fontsize = 10, fontweight = \"bold\");"
   ]
  },
  {
   "cell_type": "code",
   "execution_count": 19,
   "id": "769a5bfd",
   "metadata": {},
   "outputs": [],
   "source": [
    "# Valores observados de las variables predictoras\n",
    "# ==============================================================================\n",
    "# dataLessObservation.x1.value_counts()\n",
    "# dataLessObservation.x2.value_counts()\n",
    "# dataLessObservation.x3.value_counts()\n",
    "# dataLessObservation.x4.value_counts()"
   ]
  },
  {
   "cell_type": "code",
   "execution_count": 20,
   "id": "d6b60278",
   "metadata": {},
   "outputs": [
    {
     "data": {
      "image/png": "[encoded data removed]",
      "text/plain": [
       "<Figure size 648x360 with 4 Axes>"
      ]
     },
     "metadata": {
      "needs_background": "light"
     },
     "output_type": "display_data"
    }
   ],
   "source": [
    "fig, axes = plt.subplots(nrows=2, ncols=2, figsize=(9, 5))\n",
    "axes = axes.flat\n",
    "columnas_numeric = dataLessObservation.select_dtypes(include=['float64', 'int']).columns\n",
    "columnas_numeric = columnas_numeric.drop('Y')\n",
    "\n",
    "for i, colum in enumerate(columnas_numeric):\n",
    "    sns.regplot(\n",
    "        x           = dataLessObservation[colum],\n",
    "        y           = dataLessObservation['Y'],\n",
    "        color       = \"gray\",\n",
    "        marker      = '.',\n",
    "        scatter_kws = {\"alpha\":0.4},\n",
    "        line_kws    = {\"color\":\"r\",\"alpha\":0.7},\n",
    "        ax          = axes[i]\n",
    "    )\n",
    "    axes[i].set_title(f\"Y vs {colum}\", fontsize = 7, fontweight = \"bold\")\n",
    "    axes[i].ticklabel_format(style='sci', scilimits=(-4,4), axis='both')\n",
    "    axes[i].yaxis.set_major_formatter(ticker.EngFormatter())\n",
    "    axes[i].xaxis.set_major_formatter(ticker.EngFormatter())\n",
    "    axes[i].tick_params(labelsize = 6)\n",
    "    axes[i].set_xlabel(\"\")\n",
    "    axes[i].set_ylabel(\"\")\n",
    "    \n",
    "fig.tight_layout()\n",
    "plt.subplots_adjust(top=0.9)\n",
    "fig.suptitle('Correlación con Y', fontsize = 10, fontweight = \"bold\");"
   ]
  },
  {
   "cell_type": "code",
   "execution_count": 21,
   "id": "5948ec81",
   "metadata": {},
   "outputs": [
    {
     "data": {
      "text/html": [
       "<div>\n",
       "<style scoped>\n",
       "    .dataframe tbody tr th:only-of-type {\n",
       "        vertical-align: middle;\n",
       "    }\n",
       "\n",
       "    .dataframe tbody tr th {\n",
       "        vertical-align: top;\n",
       "    }\n",
       "\n",
       "    .dataframe thead th {\n",
       "        text-align: right;\n",
       "    }\n",
       "</style>\n",
       "<table border=\"1\" class=\"dataframe\">\n",
       "  <thead>\n",
       "    <tr style=\"text-align: right;\">\n",
       "      <th></th>\n",
       "      <th>variable_1</th>\n",
       "      <th>variable_2</th>\n",
       "      <th>r</th>\n",
       "      <th>abs_r</th>\n",
       "    </tr>\n",
       "  </thead>\n",
       "  <tbody>\n",
       "    <tr>\n",
       "      <th>13</th>\n",
       "      <td>x2</td>\n",
       "      <td>x3</td>\n",
       "      <td>-0.906225</td>\n",
       "      <td>0.906225</td>\n",
       "    </tr>\n",
       "    <tr>\n",
       "      <th>17</th>\n",
       "      <td>x3</td>\n",
       "      <td>x2</td>\n",
       "      <td>-0.906225</td>\n",
       "      <td>0.906225</td>\n",
       "    </tr>\n",
       "    <tr>\n",
       "      <th>20</th>\n",
       "      <td>x4</td>\n",
       "      <td>Y</td>\n",
       "      <td>0.711526</td>\n",
       "      <td>0.711526</td>\n",
       "    </tr>\n",
       "    <tr>\n",
       "      <th>4</th>\n",
       "      <td>Y</td>\n",
       "      <td>x4</td>\n",
       "      <td>0.711526</td>\n",
       "      <td>0.711526</td>\n",
       "    </tr>\n",
       "    <tr>\n",
       "      <th>8</th>\n",
       "      <td>x1</td>\n",
       "      <td>x3</td>\n",
       "      <td>-0.700154</td>\n",
       "      <td>0.700154</td>\n",
       "    </tr>\n",
       "    <tr>\n",
       "      <th>16</th>\n",
       "      <td>x3</td>\n",
       "      <td>x1</td>\n",
       "      <td>-0.700154</td>\n",
       "      <td>0.700154</td>\n",
       "    </tr>\n",
       "    <tr>\n",
       "      <th>11</th>\n",
       "      <td>x2</td>\n",
       "      <td>x1</td>\n",
       "      <td>0.620587</td>\n",
       "      <td>0.620587</td>\n",
       "    </tr>\n",
       "    <tr>\n",
       "      <th>7</th>\n",
       "      <td>x1</td>\n",
       "      <td>x2</td>\n",
       "      <td>0.620587</td>\n",
       "      <td>0.620587</td>\n",
       "    </tr>\n",
       "    <tr>\n",
       "      <th>19</th>\n",
       "      <td>x3</td>\n",
       "      <td>x4</td>\n",
       "      <td>0.412247</td>\n",
       "      <td>0.412247</td>\n",
       "    </tr>\n",
       "    <tr>\n",
       "      <th>23</th>\n",
       "      <td>x4</td>\n",
       "      <td>x3</td>\n",
       "      <td>0.412247</td>\n",
       "      <td>0.412247</td>\n",
       "    </tr>\n",
       "    <tr>\n",
       "      <th>2</th>\n",
       "      <td>Y</td>\n",
       "      <td>x2</td>\n",
       "      <td>0.384071</td>\n",
       "      <td>0.384071</td>\n",
       "    </tr>\n",
       "    <tr>\n",
       "      <th>10</th>\n",
       "      <td>x2</td>\n",
       "      <td>Y</td>\n",
       "      <td>0.384071</td>\n",
       "      <td>0.384071</td>\n",
       "    </tr>\n",
       "    <tr>\n",
       "      <th>9</th>\n",
       "      <td>x1</td>\n",
       "      <td>x4</td>\n",
       "      <td>-0.321678</td>\n",
       "      <td>0.321678</td>\n",
       "    </tr>\n",
       "    <tr>\n",
       "      <th>21</th>\n",
       "      <td>x4</td>\n",
       "      <td>x1</td>\n",
       "      <td>-0.321678</td>\n",
       "      <td>0.321678</td>\n",
       "    </tr>\n",
       "    <tr>\n",
       "      <th>15</th>\n",
       "      <td>x3</td>\n",
       "      <td>Y</td>\n",
       "      <td>-0.315024</td>\n",
       "      <td>0.315024</td>\n",
       "    </tr>\n",
       "    <tr>\n",
       "      <th>3</th>\n",
       "      <td>Y</td>\n",
       "      <td>x3</td>\n",
       "      <td>-0.315024</td>\n",
       "      <td>0.315024</td>\n",
       "    </tr>\n",
       "    <tr>\n",
       "      <th>14</th>\n",
       "      <td>x2</td>\n",
       "      <td>x4</td>\n",
       "      <td>-0.297984</td>\n",
       "      <td>0.297984</td>\n",
       "    </tr>\n",
       "    <tr>\n",
       "      <th>22</th>\n",
       "      <td>x4</td>\n",
       "      <td>x2</td>\n",
       "      <td>-0.297984</td>\n",
       "      <td>0.297984</td>\n",
       "    </tr>\n",
       "    <tr>\n",
       "      <th>5</th>\n",
       "      <td>x1</td>\n",
       "      <td>Y</td>\n",
       "      <td>0.246326</td>\n",
       "      <td>0.246326</td>\n",
       "    </tr>\n",
       "    <tr>\n",
       "      <th>1</th>\n",
       "      <td>Y</td>\n",
       "      <td>x1</td>\n",
       "      <td>0.246326</td>\n",
       "      <td>0.246326</td>\n",
       "    </tr>\n",
       "  </tbody>\n",
       "</table>\n",
       "</div>"
      ],
      "text/plain": [
       "   variable_1 variable_2         r     abs_r\n",
       "13         x2         x3 -0.906225  0.906225\n",
       "17         x3         x2 -0.906225  0.906225\n",
       "20         x4          Y  0.711526  0.711526\n",
       "4           Y         x4  0.711526  0.711526\n",
       "8          x1         x3 -0.700154  0.700154\n",
       "16         x3         x1 -0.700154  0.700154\n",
       "11         x2         x1  0.620587  0.620587\n",
       "7          x1         x2  0.620587  0.620587\n",
       "19         x3         x4  0.412247  0.412247\n",
       "23         x4         x3  0.412247  0.412247\n",
       "2           Y         x2  0.384071  0.384071\n",
       "10         x2          Y  0.384071  0.384071\n",
       "9          x1         x4 -0.321678  0.321678\n",
       "21         x4         x1 -0.321678  0.321678\n",
       "15         x3          Y -0.315024  0.315024\n",
       "3           Y         x3 -0.315024  0.315024\n",
       "14         x2         x4 -0.297984  0.297984\n",
       "22         x4         x2 -0.297984  0.297984\n",
       "5          x1          Y  0.246326  0.246326\n",
       "1           Y         x1  0.246326  0.246326"
      ]
     },
     "execution_count": 21,
     "metadata": {},
     "output_type": "execute_result"
    }
   ],
   "source": [
    "# Correlación entre columnas numéricas\n",
    "# ==============================================================================\n",
    "\n",
    "def tidy_corr_matrix(corr_mat):\n",
    "    '''\n",
    "    Función para convertir una matrix de correlación de pandas en formato tidy\n",
    "    '''\n",
    "    corr_mat = corr_mat.stack().reset_index()\n",
    "    corr_mat.columns = ['variable_1','variable_2','r']\n",
    "    corr_mat = corr_mat.loc[corr_mat['variable_1'] != corr_mat['variable_2'], :]\n",
    "    corr_mat['abs_r'] = np.abs(corr_mat['r'])\n",
    "    corr_mat = corr_mat.sort_values('abs_r', ascending=False)\n",
    "    \n",
    "    return(corr_mat)\n",
    "\n",
    "\n",
    "\n",
    "corr_matrix = dataLessObservation.select_dtypes(include=['float64', 'int']).corr(method='pearson')\n",
    "tidy_corr_matrix(corr_matrix)"
   ]
  },
  {
   "cell_type": "code",
   "execution_count": 22,
   "id": "be59d5a5",
   "metadata": {},
   "outputs": [
    {
     "data": {
      "image/png": "[encoded data removed]",
      "text/plain": [
       "<Figure size 288x288 with 1 Axes>"
      ]
     },
     "metadata": {
      "needs_background": "light"
     },
     "output_type": "display_data"
    }
   ],
   "source": [
    "# Heatmap matriz de correlaciones\n",
    "# ==============================================================================\n",
    "fig, ax = plt.subplots(nrows=1, ncols=1, figsize=(4, 4))\n",
    "\n",
    "sns.heatmap(\n",
    "    corr_matrix,\n",
    "    annot     = True,\n",
    "    cbar      = False,\n",
    "    annot_kws = {\"size\": 6},\n",
    "    vmin      = -1,\n",
    "    vmax      = 1,\n",
    "    center    = 0,\n",
    "    cmap      = sns.diverging_palette(20, 220, n=200),\n",
    "    square    = True,\n",
    "    ax        = ax\n",
    ")\n",
    "ax.set_xticklabels(\n",
    "    ax.get_xticklabels(),\n",
    "    rotation = 45,\n",
    "    horizontalalignment = 'right',\n",
    ")\n",
    "\n",
    "ax.tick_params(labelsize = 8)"
   ]
  },
  {
   "cell_type": "code",
   "execution_count": 23,
   "id": "6dde8c66",
   "metadata": {},
   "outputs": [
    {
     "data": {
      "text/html": [
       "<div>\n",
       "<style scoped>\n",
       "    .dataframe tbody tr th:only-of-type {\n",
       "        vertical-align: middle;\n",
       "    }\n",
       "\n",
       "    .dataframe tbody tr th {\n",
       "        vertical-align: top;\n",
       "    }\n",
       "\n",
       "    .dataframe thead th {\n",
       "        text-align: right;\n",
       "    }\n",
       "</style>\n",
       "<table border=\"1\" class=\"dataframe\">\n",
       "  <thead>\n",
       "    <tr style=\"text-align: right;\">\n",
       "      <th></th>\n",
       "      <th>x1</th>\n",
       "      <th>x2</th>\n",
       "      <th>x3</th>\n",
       "      <th>x4</th>\n",
       "    </tr>\n",
       "  </thead>\n",
       "  <tbody>\n",
       "    <tr>\n",
       "      <th>0</th>\n",
       "      <td>38.4</td>\n",
       "      <td>6.1</td>\n",
       "      <td>220</td>\n",
       "      <td>235</td>\n",
       "    </tr>\n",
       "    <tr>\n",
       "      <th>1</th>\n",
       "      <td>40.3</td>\n",
       "      <td>4.8</td>\n",
       "      <td>231</td>\n",
       "      <td>307</td>\n",
       "    </tr>\n",
       "    <tr>\n",
       "      <th>2</th>\n",
       "      <td>40.0</td>\n",
       "      <td>6.1</td>\n",
       "      <td>217</td>\n",
       "      <td>212</td>\n",
       "    </tr>\n",
       "    <tr>\n",
       "      <th>3</th>\n",
       "      <td>31.8</td>\n",
       "      <td>0.2</td>\n",
       "      <td>316</td>\n",
       "      <td>365</td>\n",
       "    </tr>\n",
       "    <tr>\n",
       "      <th>4</th>\n",
       "      <td>40.8</td>\n",
       "      <td>3.5</td>\n",
       "      <td>210</td>\n",
       "      <td>218</td>\n",
       "    </tr>\n",
       "  </tbody>\n",
       "</table>\n",
       "</div>"
      ],
      "text/plain": [
       "     x1   x2   x3   x4\n",
       "0  38.4  6.1  220  235\n",
       "1  40.3  4.8  231  307\n",
       "2  40.0  6.1  217  212\n",
       "3  31.8  0.2  316  365\n",
       "4  40.8  3.5  210  218"
      ]
     },
     "execution_count": 23,
     "metadata": {},
     "output_type": "execute_result"
    }
   ],
   "source": [
    "variablesPredictoras = dataLessObservation.drop(['Y'], axis=1)\n",
    "variablesPredictoras .head()"
   ]
  },
  {
   "cell_type": "markdown",
   "id": "27b9eaf6",
   "metadata": {},
   "source": [
    "**El Modelo**\n",
    "\n",
    "$$\n",
    "y = \\beta_0 + \\beta_1 x_1 + \\beta_2 x_2 + \\beta_3 x_3 + \\beta_4 x_4 + \\varepsilon\n",
    "$$"
   ]
  },
  {
   "cell_type": "code",
   "execution_count": 24,
   "id": "e886642f",
   "metadata": {},
   "outputs": [
    {
     "data": {
      "text/plain": [
       "LinearRegression()"
      ]
     },
     "execution_count": 24,
     "metadata": {},
     "output_type": "execute_result"
    }
   ],
   "source": [
    "# Creación del modelo\n",
    "# ==============================================================================\n",
    "modelo = LinearRegression()\n",
    "modelo.fit(X = variablesPredictoras, y = y)"
   ]
  },
  {
   "cell_type": "code",
   "execution_count": 25,
   "id": "78da8588",
   "metadata": {},
   "outputs": [
    {
     "name": "stdout",
     "output_type": "stream",
     "text": [
      "Intercept: -6.820774068267955\n",
      "Coeficiente: [('x1', 0.227245951508298), ('x2', 0.553726210390523), ('x3', -0.14953561805056306), ('x4', 0.15465009357623521)]\n",
      "Coeficiente de determinación R^2: 0.9621770360720396\n"
     ]
    }
   ],
   "source": [
    "# Información del modelo\n",
    "# ==============================================================================\n",
    "print(\"Intercept:\", modelo.intercept_)\n",
    "print(\"Coeficiente:\", list(zip(variablesPredictoras.columns, modelo.coef_.flatten(), )))\n",
    "print(\"Coeficiente de determinación R^2:\", modelo.score(variablesPredictoras, y))"
   ]
  },
  {
   "cell_type": "markdown",
   "id": "006da617",
   "metadata": {},
   "source": [
    "La ecuación de regresión estimada es:\n",
    "\n",
    "$$\n",
    "y = -6.82 + 0.23 x_1 + 0.55 x_2 -0.15 x_3 + 0.15 x_4\n",
    "$$"
   ]
  },
  {
   "cell_type": "code",
   "execution_count": 26,
   "id": "27ecd255",
   "metadata": {},
   "outputs": [
    {
     "name": "stdout",
     "output_type": "stream",
     "text": [
      "                            OLS Regression Results                            \n",
      "==============================================================================\n",
      "Dep. Variable:                      Y   R-squared:                       0.962\n",
      "Model:                            OLS   Adj. R-squared:                  0.957\n",
      "Method:                 Least Squares   F-statistic:                     171.7\n",
      "Date:                Mon, 20 Sep 2021   Prob (F-statistic):           8.82e-19\n",
      "Time:                        18:29:02   Log-Likelihood:                -68.415\n",
      "No. Observations:                  32   AIC:                             146.8\n",
      "Df Residuals:                      27   BIC:                             154.2\n",
      "Df Model:                           4                                         \n",
      "Covariance Type:            nonrobust                                         \n",
      "==============================================================================\n",
      "                 coef    std err          t      P>|t|      [0.025      0.975]\n",
      "------------------------------------------------------------------------------\n",
      "const         -6.8208     10.123     -0.674      0.506     -27.592      13.950\n",
      "x1             0.2272      0.100      2.274      0.031       0.022       0.432\n",
      "x2             0.5537      0.370      1.498      0.146      -0.205       1.312\n",
      "x3            -0.1495      0.029     -5.116      0.000      -0.210      -0.090\n",
      "x4             0.1547      0.006     23.992      0.000       0.141       0.168\n",
      "==============================================================================\n",
      "Omnibus:                        0.635   Durbin-Watson:                   2.169\n",
      "Prob(Omnibus):                  0.728   Jarque-Bera (JB):                0.719\n",
      "Skew:                           0.190   Prob(JB):                        0.698\n",
      "Kurtosis:                       2.371   Cond. No.                     1.07e+04\n",
      "==============================================================================\n",
      "\n",
      "Notes:\n",
      "[1] Standard Errors assume that the covariance matrix of the errors is correctly specified.\n",
      "[2] The condition number is large, 1.07e+04. This might indicate that there are\n",
      "strong multicollinearity or other numerical problems.\n"
     ]
    }
   ],
   "source": [
    "X = sm.add_constant(variablesPredictoras, prepend=True)\n",
    "modelo = sm.OLS(endog=y, exog=X)\n",
    "modelo = modelo.fit()\n",
    "print(modelo.summary())"
   ]
  },
  {
   "cell_type": "markdown",
   "id": "ef2c512e",
   "metadata": {},
   "source": [
    "Prueba de la hipótesis nula $H_0$ \n",
    "$$\n",
    "H_0 = \\beta_1=\\beta_2=\\beta_3=\\beta_4=0\n",
    "$$\n",
    "contra la hipótesis alternativa $H_1 = \\beta_j \\neq 0$ para algún $j=1,...,4$.\n",
    "\n",
    "El valor del estadístico *F* es $171.7$ y el *p-value* es $8.82e-19$. Como *p-value* $\\approx 0$ hay evidencia suficiente para rechazar la hipótesis nula y concluir que al menos uno de los coefientes de regresión es distinto de cero. El coeficiente de correlación/determinación múltiple $R^2$ es $0.962$, lo cuál indica que alrededor del $96.2$% de la variación total de la producción de gasolina con respecto a su media puede explicarse por las cuatro variables predictoras incluidas en la ecuación de regresión."
   ]
  },
  {
   "cell_type": "code",
   "execution_count": 27,
   "id": "5d313164",
   "metadata": {},
   "outputs": [
    {
     "name": "stdout",
     "output_type": "stream",
     "text": [
      "\n",
      "El error cuadrático medio (RMSE) es: 2.0524677441076786\n"
     ]
    }
   ],
   "source": [
    "# Error Cuadrático Medio\n",
    "# ==============================================================================\n",
    "X_ = sm.add_constant(variablesPredictoras, prepend=True)\n",
    "predicciones = modelo.predict(exog = X_)\n",
    "rmse = mean_squared_error(\n",
    "        y_true  = y,\n",
    "        y_pred  = predicciones,\n",
    "        squared = False\n",
    "       )\n",
    "print(\"\")\n",
    "print(f\"El error cuadrático medio (RMSE) es: {rmse}\")"
   ]
  },
  {
   "cell_type": "code",
   "execution_count": 28,
   "id": "cbc42ceb",
   "metadata": {},
   "outputs": [
    {
     "name": "stdout",
     "output_type": "stream",
     "text": [
      "\n",
      " s_hat es: 2.2344438607044834\n"
     ]
    }
   ],
   "source": [
    "# Estimador no sesgado de la desviación estándar del error\n",
    "# ==============================================================================\n",
    "n, k = variablesPredictoras.shape\n",
    "m = k+1\n",
    "s = np.sqrt((np.sum((y-predicciones)**2)/(n-m)))\n",
    "print(\"\")\n",
    "print(f\" s_hat es: {s}\")"
   ]
  },
  {
   "cell_type": "markdown",
   "id": "4585b4ac",
   "metadata": {},
   "source": [
    "**CONCLUSIONES:**\n",
    "* La variable respuesta/dependiente se ajusta a una distribución normal.\n",
    "* Se rechazo la hipótesis nula de que todos los coeficientes de regresión (excepto el término constante) son iguales a cero.\n",
    "* El valor del coeficiente de determinación/correlación es alto (0.9622), es decir, que el $96.2$% de la variación total de la producción de gasolina con respecto a su media puede explicarse por las cuatro variables predictoras incluidas en la ecuación de regresión.\n",
    "* Las desviaciones estándar de los estimadores de mínimos cuadrados para $\\beta_0$ y $\\beta_2$ son grandes, lo que sugiere que $x_2$, y posiblemente otras variables predictoras sean estadísticamente significativas, es decir, pueda que $x_2$ y otras variables de predicción incluidas en el modelo NO tengan un gran efecto sobre la producción de gasolina (Y).\n",
    "* Problema de Multicolinealidad."
   ]
  },
  {
   "cell_type": "markdown",
   "id": "17970f51",
   "metadata": {},
   "source": [
    "**DETERMINACIÓN DEL MEJOR CONJUNTO DE VARIABLES PREDICTORAS-PROBLEMA DE SELECCIÓN DE VARIABLES EN ANÁLISIS DE REGRESIÓN**"
   ]
  },
  {
   "cell_type": "code",
   "execution_count": 35,
   "id": "92aa3f4a",
   "metadata": {},
   "outputs": [],
   "source": [
    "from sklearn.feature_selection import SelectKBest\n",
    "from sklearn.feature_selection import f_regression\n",
    "from numpy import array \n",
    "X_new = SelectKBest(score_func=f_regression, k=2).fit_transform(variablesPredictoras, y)"
   ]
  },
  {
   "cell_type": "code",
   "execution_count": null,
   "id": "b939e39e",
   "metadata": {},
   "outputs": [],
   "source": []
  },
  {
   "cell_type": "markdown",
   "id": "e52e0f4e",
   "metadata": {},
   "source": [
    "**ANÁLISIS DE LOS RESIDUOS O RESIDUALES**\n",
    "\n",
    "*Paul A. Samuelson... \"al científico que hace predicciones le recomiendo que estudie siempre los residuales\"*\n"
   ]
  },
  {
   "cell_type": "code",
   "execution_count": null,
   "id": "9fcef814",
   "metadata": {},
   "outputs": [],
   "source": []
  }
 ],
 "metadata": {
  "kernelspec": {
   "display_name": "Python 3",
   "language": "python",
   "name": "python3"
  },
  "language_info": {
   "codemirror_mode": {
    "name": "ipython",
    "version": 3
   },
   "file_extension": ".py",
   "mimetype": "text/x-python",
   "name": "python",
   "nbconvert_exporter": "python",
   "pygments_lexer": "ipython3",
   "version": "3.8.8"
  }
 },
 "nbformat": 4,
 "nbformat_minor": 5
}
